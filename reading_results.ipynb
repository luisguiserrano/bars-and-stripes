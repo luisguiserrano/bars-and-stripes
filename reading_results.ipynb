{
 "cells": [
  {
   "cell_type": "code",
   "execution_count": 1,
   "metadata": {},
   "outputs": [],
   "source": [
    "import json\n",
    "with open(\"workflow_result_ip_2_layers.json\") as f:\n",
    "    data = json.load(f)"
   ]
  },
  {
   "cell_type": "code",
   "execution_count": 2,
   "metadata": {},
   "outputs": [
    {
     "data": {
      "text/plain": [
       "dict_keys(['qcbm-opt-89f98337-b059-437f-81b8-3b025a55c031-101182844', 'qcbm-opt-89f98337-b059-437f-81b8-3b025a55c031-2467666868', 'qcbm-opt-89f98337-b059-437f-81b8-3b025a55c031-2750362421'])"
      ]
     },
     "execution_count": 2,
     "metadata": {},
     "output_type": "execute_result"
    }
   ],
   "source": [
    "data.keys()"
   ]
  },
  {
   "cell_type": "code",
   "execution_count": 7,
   "metadata": {},
   "outputs": [
    {
     "data": {
      "text/plain": [
       "dict_keys(['inputs', 'optimized-parameters', 'qcbm-optimization-results', 'stepID', 'stepName', 'workflowId'])"
      ]
     },
     "execution_count": 7,
     "metadata": {},
     "output_type": "execute_result"
    }
   ],
   "source": [
    "results = data['qcbm-opt-89f98337-b059-437f-81b8-3b025a55c031-2467666868']\n",
    "results.keys()"
   ]
  },
  {
   "cell_type": "code",
   "execution_count": 8,
   "metadata": {},
   "outputs": [
    {
     "data": {
      "text/plain": [
       "{'parameters': {'real': [-1.8924494302909074,\n",
       "   -1.249142719467225,\n",
       "   -1.8924483426490375,\n",
       "   -1.2491459263072346,\n",
       "   0.40506751189889956,\n",
       "   -0.4050657028206365,\n",
       "   0.4050671374739779,\n",
       "   -0.40506796652036164,\n",
       "   -1.9372538239419879,\n",
       "   -0.4189391115617552,\n",
       "   -1.9372565269122701,\n",
       "   1.2043374013698431,\n",
       "   1.151857439477274,\n",
       "   -1.937257256188268]},\n",
       " 'schema': 'zapata-v1-circuit_template_params'}"
      ]
     },
     "execution_count": 8,
     "metadata": {},
     "output_type": "execute_result"
    }
   ],
   "source": [
    "results['optimized-parameters']"
   ]
  },
  {
   "cell_type": "code",
   "execution_count": 14,
   "metadata": {},
   "outputs": [
    {
     "data": {
      "text/plain": [
       "{'artifacts': {'bitstring_distribution': {'0000': 0.03639151463638243,\n",
       "   '0001': 0.011546358341269942,\n",
       "   '0010': 0.011546259484338087,\n",
       "   '0011': 0.001423544501575628,\n",
       "   '0100': 0.011546244310227256,\n",
       "   '0101': 0.1966735116455218,\n",
       "   '0110': 0.0014235259814702832,\n",
       "   '0111': 0.11220516587218987,\n",
       "   '1000': 0.011546267465704153,\n",
       "   '1001': 0.001423502778263741,\n",
       "   '1010': 0.1966734903318041,\n",
       "   '1011': 0.11220499788394614,\n",
       "   '1100': 0.0014235273072967757,\n",
       "   '1101': 0.11220532259071439,\n",
       "   '1110': 0.11220527789754355,\n",
       "   '1111': 0.06956148897175181}},\n",
       " 'call_number': 3334,\n",
       " 'params': {'real': [-1.8924494302909074,\n",
       "   -1.249142719467225,\n",
       "   -1.8924483426490375,\n",
       "   -1.2491459263072346,\n",
       "   0.40506751189889956,\n",
       "   -0.4050657028206365,\n",
       "   0.4050671374739779,\n",
       "   -0.40506796652036164,\n",
       "   -1.9372538239419879,\n",
       "   -0.4189391115617552,\n",
       "   -1.9372565269122701,\n",
       "   1.2043374013698431,\n",
       "   1.151857439477274,\n",
       "   -1.937257256188268]},\n",
       " 'value': {'precision': None,\n",
       "  'schema': 'zapata-v1-value_estimate',\n",
       "  'value': 2.0003541074032967}}"
      ]
     },
     "execution_count": 14,
     "metadata": {},
     "output_type": "execute_result"
    }
   ],
   "source": [
    "results['qcbm-optimization-results']['history'][-1]"
   ]
  },
  {
   "cell_type": "code",
   "execution_count": null,
   "metadata": {},
   "outputs": [],
   "source": []
  }
 ],
 "metadata": {
  "kernelspec": {
   "display_name": "Python 3",
   "language": "python",
   "name": "python3"
  },
  "language_info": {
   "codemirror_mode": {
    "name": "ipython",
    "version": 3
   },
   "file_extension": ".py",
   "mimetype": "text/x-python",
   "name": "python",
   "nbconvert_exporter": "python",
   "pygments_lexer": "ipython3",
   "version": "3.7.6"
  }
 },
 "nbformat": 4,
 "nbformat_minor": 4
}
